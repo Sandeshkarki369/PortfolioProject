{
 "cells": [
  {
   "cell_type": "code",
   "execution_count": null,
   "id": "b28e65a6-0e08-404f-92e6-9693edb0f9ed",
   "metadata": {},
   "outputs": [],
   "source": [
    "Under 18.5\tEat more calories!!!\n",
    "18.5 - 24.9\tYou are fit.\n",
    "25 - 29.9\tOverweight Warning!!!\n",
    "30 - 34.9\tYou are getting very high obese!!!\n",
    "35 - 39.9\tTake Care of your health...\n",
    "40 and over\tMorbidly Obese\tExtremely High"
   ]
  },
  {
   "cell_type": "code",
   "execution_count": null,
   "id": "bf25c7c3-c548-4b92-a369-4774a337284f",
   "metadata": {},
   "outputs": [],
   "source": [
    "Name= input(\"Enter your name: \")\n",
    "Weight=int (input(\"Enter your Weight in pounds: \"))\n",
    "Height=float(input(\"Enter your Height in inches: \")) # Converted to float\n",
    "BMI= (Weight*703)/ (Height * Height)\n",
    "\n",
    "print(Name+ \", this is your BMI -> \" + str(BMI))\n",
    "\n",
    "\n",
    "if BMI>0:\n",
    "    if (BMI<18.5):\n",
    "        print(\"I assume;\"+ \" Eat more calories!!!\")\n",
    "    elif (BMI<=24.9):\n",
    "        print(\"I assume;\"+ \" You are fit.\")\n",
    "    elif (BMI<29.9):\n",
    "        print(\"I assume;\"+ \" Overweight Warning!!!\")\n",
    "    elif (BMI<34.9):\n",
    "        print(\"I assume;\"+ \" You are getting very high obese!!!\")\n",
    "    elif (BMI<39.9):\n",
    "        print(\"I assume;\" + \" Take Care of your health...\")\n",
    "    else:\n",
    "        print(\"I assume;\" + \" Take care\")\n",
    "else:\n",
    "    print(Name+ \", please enter valid inputs.\")\n"
   ]
  },
  {
   "cell_type": "code",
   "execution_count": null,
   "id": "75e48b99-aed9-4dcf-9832-71bf20965c21",
   "metadata": {},
   "outputs": [],
   "source": []
  },
  {
   "cell_type": "code",
   "execution_count": null,
   "id": "e4cf57c8-1a50-473e-b43c-c5e0fd0ffe80",
   "metadata": {},
   "outputs": [],
   "source": []
  },
  {
   "cell_type": "code",
   "execution_count": null,
   "id": "b30d665c-4f97-4b85-9872-6277ddb0042e",
   "metadata": {},
   "outputs": [],
   "source": []
  },
  {
   "cell_type": "code",
   "execution_count": null,
   "id": "d9a9d8c7-f360-46e1-9030-de80727e76d2",
   "metadata": {},
   "outputs": [],
   "source": []
  },
  {
   "cell_type": "code",
   "execution_count": null,
   "id": "19743764-2d1f-4a39-97a0-a60da8b5809d",
   "metadata": {},
   "outputs": [],
   "source": []
  },
  {
   "cell_type": "code",
   "execution_count": null,
   "id": "5f64c3ee-a581-4147-abc0-a9a12d21b382",
   "metadata": {},
   "outputs": [],
   "source": []
  }
 ],
 "metadata": {
  "kernelspec": {
   "display_name": "Python [conda env:base] *",
   "language": "python",
   "name": "conda-base-py"
  },
  "language_info": {
   "codemirror_mode": {
    "name": "ipython",
    "version": 3
   },
   "file_extension": ".py",
   "mimetype": "text/x-python",
   "name": "python",
   "nbconvert_exporter": "python",
   "pygments_lexer": "ipython3",
   "version": "3.12.7"
  }
 },
 "nbformat": 4,
 "nbformat_minor": 5
}
