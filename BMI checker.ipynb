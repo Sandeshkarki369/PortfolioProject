{
 "cells": [
  {
   "cell_type": "code",
   "execution_count": null,
   "id": "bf25c7c3-c548-4b92-a369-4774a337284f",
   "metadata": {},
   "outputs": [],
   "source": [
    "Name= input(\"Enter your name: \")\n",
    "Weight=int (input(\"Enter your Weight in pounds: \"))\n",
    "Height=int (input(\"Enter your Height in inches: \"))\n",
    "BMI= (Weight * 703) / (Height * Height)\n",
    "print(BMI)\n",
    "\n",
    "if BMI>0:\n",
    "    if (BMI<18.5):\n",
    "        print(Name + \", Eat more calories!!!\")\n",
    "    elif (BMI<=24.9):\n",
    "        print(Name+ \", you are fit.\")\n",
    "    elif (BMI<29.9):\n",
    "        print(Name+ \" Overweight Warning!!!\")\n",
    "    elif (BMI<34.9):\n",
    "        print(Name+ \", you are getting very high obese!!!\")\n",
    "    elif (BMI<39.9):\n",
    "        print(Name+ \", take Care of your health...\")\n",
    "    else:\n",
    "        print(Name + \", take care\")\n",
    "else:\n",
    "    print(Name+ \", enter valid inputs.\")\n"
   ]
  },
  {
   "cell_type": "code",
   "execution_count": null,
   "id": "75e48b99-aed9-4dcf-9832-71bf20965c21",
   "metadata": {},
   "outputs": [],
   "source": []
  },
  {
   "cell_type": "code",
   "execution_count": null,
   "id": "b28e65a6-0e08-404f-92e6-9693edb0f9ed",
   "metadata": {},
   "outputs": [],
   "source": [
    "Under 18.5\tUnderweight\tMinimal\n",
    "18.5 - 24.9\tNormal Weight\tMinimal\n",
    "25 - 29.9\tOverweight\tIncreased\n",
    "30 - 34.9\tObese\tHigh\n",
    "35 - 39.9\tSeverely Obese\tVery High\n",
    "40 and over\tMorbidly Obese\tExtremely High"
   ]
  },
  {
   "cell_type": "code",
   "execution_count": 39,
   "id": "cc83e5b3-c865-4860-9f4c-df962723e19a",
   "metadata": {},
   "outputs": [
    {
     "ename": "SyntaxError",
     "evalue": "invalid syntax (2167988766.py, line 14)",
     "output_type": "error",
     "traceback": [
      "\u001b[1;36m  Cell \u001b[1;32mIn[39], line 14\u001b[1;36m\u001b[0m\n\u001b[1;33m    else:\u001b[0m\n\u001b[1;37m    ^\u001b[0m\n\u001b[1;31mSyntaxError\u001b[0m\u001b[1;31m:\u001b[0m invalid syntax\n"
     ]
    }
   ],
   "source": [
    "if BMI<0:\n",
    "    if BMI<18.5:\n",
    "        print(Name + \", Eat more calories!!!\")\n",
    "    elif BMI<=24.9:\n",
    "        print(Name+ \", you are fit.\")\n",
    "    elif BMI<=29.9:\n",
    "        print(Name+ \" Overweight Warning!!!\")\n",
    "    elif BMI<=34.9:\n",
    "        print(Name+ \", you are getting very high obese!!!\")\n",
    "    elif BMI<=39.9:\n",
    "        print(Name+ \", take Care of your health...\")\n",
    "    else:\n",
    "        print(Name + \", take care :) \")\n",
    "    else:\n",
    "    print(\"Invalid Inputs\")"
   ]
  },
  {
   "cell_type": "code",
   "execution_count": null,
   "id": "e4cf57c8-1a50-473e-b43c-c5e0fd0ffe80",
   "metadata": {},
   "outputs": [],
   "source": []
  },
  {
   "cell_type": "code",
   "execution_count": null,
   "id": "b30d665c-4f97-4b85-9872-6277ddb0042e",
   "metadata": {},
   "outputs": [],
   "source": []
  },
  {
   "cell_type": "code",
   "execution_count": null,
   "id": "d9a9d8c7-f360-46e1-9030-de80727e76d2",
   "metadata": {},
   "outputs": [],
   "source": []
  },
  {
   "cell_type": "code",
   "execution_count": null,
   "id": "19743764-2d1f-4a39-97a0-a60da8b5809d",
   "metadata": {},
   "outputs": [],
   "source": []
  },
  {
   "cell_type": "code",
   "execution_count": null,
   "id": "5f64c3ee-a581-4147-abc0-a9a12d21b382",
   "metadata": {},
   "outputs": [],
   "source": []
  }
 ],
 "metadata": {
  "kernelspec": {
   "display_name": "Python [conda env:base] *",
   "language": "python",
   "name": "conda-base-py"
  },
  "language_info": {
   "codemirror_mode": {
    "name": "ipython",
    "version": 3
   },
   "file_extension": ".py",
   "mimetype": "text/x-python",
   "name": "python",
   "nbconvert_exporter": "python",
   "pygments_lexer": "ipython3",
   "version": "3.12.7"
  }
 },
 "nbformat": 4,
 "nbformat_minor": 5
}
